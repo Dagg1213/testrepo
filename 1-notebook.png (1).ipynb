{
 "cells": [
  {
   "cell_type": "markdown",
   "id": "f5c57706-7448-413e-9ddf-754aeb11173e",
   "metadata": {},
   "source": [
    "# Data Science Tools and Ecosystem\n"
   ]
  },
  {
   "cell_type": "raw",
   "id": "23542e6f-4c2d-4ee7-95ae-a8e40d26b92c",
   "metadata": {},
   "source": [
    "In this notebook, Data Science Tools and Ecosystem are summarized."
   ]
  },
  {
   "cell_type": "markdown",
   "id": "600a52d1-84ec-4ee7-b494-85edf67a105b",
   "metadata": {},
   "source": [
    "**Objectives**"
   ]
  },
  {
   "cell_type": "markdown",
   "id": "8e93bc27-5b8a-4631-91b3-c5796116c219",
   "metadata": {},
   "source": [
    "Some of the popular languages that Data Scientists use are:\n",
    "\n",
    "1. python \n",
    "2. R\n",
    "3. Julia\n"
   ]
  },
  {
   "cell_type": "markdown",
   "id": "c5396594-682c-4844-a074-93930d8f7eff",
   "metadata": {},
   "source": [
    "Some of the popular languages that Data Scientists use are:\n",
    "\n",
    "* python \n",
    "* R\n",
    "* Julia\n"
   ]
  },
  {
   "cell_type": "markdown",
   "id": "bfbadd8c-fe3a-412c-82f2-27dce1052e49",
   "metadata": {},
   "source": [
    "Some of the commonly used libraries used by Data Scientists include:\n",
    "1. Pandas\n",
    "2. NumPy\n",
    "3. SciPy"
   ]
  },
  {
   "cell_type": "markdown",
   "id": "3abfaee8-1bfd-4512-9a85-c30eeb5f1330",
   "metadata": {
    "scrolled": true
   },
   "source": [
    "|Data Science Tools|\n",
    "|------------------|\n",
    "|Apache hadoop|\n",
    "|SAS|\n",
    "|Apache Spark|"
   ]
  },
  {
   "cell_type": "markdown",
   "id": "fcc2f534-b414-4dca-a480-de7dfcaf7ddb",
   "metadata": {},
   "source": [
    "### Below are a few examples of evaluating arithmetic expressions in Python\n"
   ]
  },
  {
   "cell_type": "code",
   "execution_count": 6,
   "id": "512c48cc-a5f3-48fd-9706-46b6584b4e4c",
   "metadata": {},
   "outputs": [
    {
     "data": {
      "text/plain": [
       "12"
      ]
     },
     "execution_count": 6,
     "metadata": {},
     "output_type": "execute_result"
    }
   ],
   "source": [
    "7+5"
   ]
  },
  {
   "cell_type": "code",
   "execution_count": 5,
   "id": "3b1d3ebe-c180-40d3-bcb4-b0dad6b4201f",
   "metadata": {},
   "outputs": [
    {
     "data": {
      "text/plain": [
       "32"
      ]
     },
     "execution_count": 5,
     "metadata": {},
     "output_type": "execute_result"
    }
   ],
   "source": [
    "4*8"
   ]
  },
  {
   "cell_type": "code",
   "execution_count": 7,
   "id": "f9628d00-97d9-471a-97dc-4f520e486ced",
   "metadata": {},
   "outputs": [
    {
     "data": {
      "text/plain": [
       "17"
      ]
     },
     "execution_count": 7,
     "metadata": {},
     "output_type": "execute_result"
    }
   ],
   "source": [
    "# This a simple arithmetic expression to mutiply then add integers \n",
    "(3*4)+5"
   ]
  },
  {
   "cell_type": "code",
   "execution_count": 10,
   "id": "87ee2307-712f-403d-9fd8-b74fcca3de55",
   "metadata": {},
   "outputs": [
    {
     "data": {
      "text/plain": [
       "3"
      ]
     },
     "execution_count": 10,
     "metadata": {},
     "output_type": "execute_result"
    }
   ],
   "source": [
    "#  This will convert 200 minutes to hours by diving by 60\n",
    "200//60"
   ]
  },
  {
   "cell_type": "markdown",
   "id": "3fd94557-608f-4ba0-8187-db685c4360fe",
   "metadata": {},
   "source": [
    "## Author\n",
    "   divyansh"
   ]
  },
  {
   "cell_type": "code",
   "execution_count": null,
   "id": "c6f6b390-9bd2-4e52-9577-917eecc10c3a",
   "metadata": {},
   "outputs": [],
   "source": []
  }
 ],
 "metadata": {
  "kernelspec": {
   "display_name": "Python [conda env:base] *",
   "language": "python",
   "name": "conda-base-py"
  },
  "language_info": {
   "codemirror_mode": {
    "name": "ipython",
    "version": 3
   },
   "file_extension": ".py",
   "mimetype": "text/x-python",
   "name": "python",
   "nbconvert_exporter": "python",
   "pygments_lexer": "ipython3",
   "version": "3.12.7"
  }
 },
 "nbformat": 4,
 "nbformat_minor": 5
}
